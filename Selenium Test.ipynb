{
 "cells": [
  {
   "cell_type": "code",
   "execution_count": 6,
   "metadata": {},
   "outputs": [
    {
     "ename": "ModuleNotFoundError",
     "evalue": "No module named 'selenium'",
     "output_type": "error",
     "traceback": [
      "\u001b[1;31m---------------------------------------------------------------------------\u001b[0m",
      "\u001b[1;31mModuleNotFoundError\u001b[0m                       Traceback (most recent call last)",
      "\u001b[1;32m<ipython-input-6-1b91a3ac28f6>\u001b[0m in \u001b[0;36m<module>\u001b[1;34m\u001b[0m\n\u001b[0;32m      3\u001b[0m \u001b[1;31m# 2. 브라우저 드라이버\u001b[0m\u001b[1;33m\u001b[0m\u001b[1;33m\u001b[0m\u001b[1;33m\u001b[0m\u001b[0m\n\u001b[0;32m      4\u001b[0m \u001b[1;31m#  브라우저 버전\u001b[0m\u001b[1;33m\u001b[0m\u001b[1;33m\u001b[0m\u001b[1;33m\u001b[0m\u001b[0m\n\u001b[1;32m----> 5\u001b[1;33m \u001b[1;32mfrom\u001b[0m \u001b[0mselenium\u001b[0m \u001b[1;32mimport\u001b[0m \u001b[0mwebdriver\u001b[0m\u001b[1;33m\u001b[0m\u001b[1;33m\u001b[0m\u001b[0m\n\u001b[0m\u001b[0;32m      6\u001b[0m \u001b[1;33m\u001b[0m\u001b[0m\n\u001b[0;32m      7\u001b[0m \u001b[1;31m# 드라이버 로드\u001b[0m\u001b[1;33m\u001b[0m\u001b[1;33m\u001b[0m\u001b[1;33m\u001b[0m\u001b[0m\n",
      "\u001b[1;31mModuleNotFoundError\u001b[0m: No module named 'selenium'"
     ]
    }
   ],
   "source": [
    "# Selenium : 웹 페이지가 실제 브라우저에서 오류 없이 잘 작동하는가 테스트 하는 도구\n",
    "# 1. 모듈 설치 : pip install selenium\n",
    "# 2. 브라우저 드라이버\n",
    "#  브라우저 버전\n",
    "from selenium import webdriver\n",
    "\n",
    "# 드라이버 로드\n",
    "driver = webdriver.Chrome(\"d:/utilities/chromedriver.exe\")\n",
    "# 접속\n",
    "driver.get(\"http://www.naver.com\")\n",
    "# 페이지 로드 전에 약간의 시간 -> 잠시 대기\n",
    "driver.implicity_wail(3)\n",
    "\n",
    "# #account > a -> 클릭\n",
    "btn_login = driver.find_element_by_css_selector(\"#account > a\") # 요소를 찾고\n",
    "btn_login_click() # 클릭 이벤트 발생\n",
    "\n",
    "# 아이디 입력창 xpath: // *[@id=\"id\"]\n",
    "input_id = driver.find_element_by_xpath(\"//*[@id=\\\"id\\\"]\") # 아이디 입력창 찾고\n",
    "# 아이디 입력 이벤트 발생\n",
    "input_id.send_keys(\"litmuscube\")\n",
    "# 비밀번호 입력창 xpath: // *[@id=\"pw\"]\n",
    "imput_password = driver.find_element_by_xpath(\"// *[@id=\\\"pw\\\"]\")\n",
    "# 비밀번호 입력 이벤트 발생\n",
    "input_password.send_keys(\"password\")\n",
    "# 로그인 버튼 xpath:// *[@id=\"log.login\"]\n",
    "btn_submit = driver.find_element_by_xpath(\"// *[@id=\\\"log.login\\\"]\")"
   ]
  },
  {
   "cell_type": "code",
   "execution_count": 5,
   "metadata": {},
   "outputs": [
    {
     "ename": "NameError",
     "evalue": "name 'sebdriver' is not defined",
     "output_type": "error",
     "traceback": [
      "\u001b[1;31m---------------------------------------------------------------------------\u001b[0m",
      "\u001b[1;31mNameError\u001b[0m                                 Traceback (most recent call last)",
      "\u001b[1;32m<ipython-input-5-b7045f0b5766>\u001b[0m in \u001b[0;36m<module>\u001b[1;34m\u001b[0m\n\u001b[0;32m      3\u001b[0m \u001b[1;31m# 3. 검색 버튼 클릭\u001b[0m\u001b[1;33m\u001b[0m\u001b[1;33m\u001b[0m\u001b[1;33m\u001b[0m\u001b[0m\n\u001b[0;32m      4\u001b[0m \u001b[1;31m# 4. 검색 결과 소스 HTML 확인\u001b[0m\u001b[1;33m\u001b[0m\u001b[1;33m\u001b[0m\u001b[1;33m\u001b[0m\u001b[0m\n\u001b[1;32m----> 5\u001b[1;33m \u001b[0mdriver\u001b[0m \u001b[1;33m=\u001b[0m \u001b[0msebdriver\u001b[0m\u001b[1;33m.\u001b[0m\u001b[0mChrome\u001b[0m\u001b[1;33m(\u001b[0m\u001b[1;34m\"d:/utilities/chromedriver.exe\"\u001b[0m\u001b[1;33m)\u001b[0m\u001b[1;33m\u001b[0m\u001b[1;33m\u001b[0m\u001b[0m\n\u001b[0m\u001b[0;32m      6\u001b[0m \u001b[1;33m\u001b[0m\u001b[0m\n\u001b[0;32m      7\u001b[0m \u001b[0mdriver\u001b[0m\u001b[1;33m.\u001b[0m\u001b[0mget\u001b[0m\u001b[1;33m(\u001b[0m\u001b[1;34m\"http://www.naver.com\"\u001b[0m\u001b[1;33m)\u001b[0m\u001b[1;33m\u001b[0m\u001b[1;33m\u001b[0m\u001b[0m\n",
      "\u001b[1;31mNameError\u001b[0m: name 'sebdriver' is not defined"
     ]
    }
   ],
   "source": [
    "# 1. naver.com 접속\n",
    "# 2. 검색어 입력\n",
    "# 3. 검색 버튼 클릭\n",
    "# 4. 검색 결과 소스 HTML 확인\n",
    "driver = sebdriver.Chrome(\"d:/utilities/chromedriver.exe\")\n",
    "\n",
    "driver.get(\"http://www.naver.com\")\n",
    "# 검색어 창 selector : #query\n",
    "# 검색 버튼 selector : #search_btn\n",
    "input_search = driver.find_element_by_css_selector(\"#query\")\n",
    "input_search.send_keys(\"WWDC\")\n",
    "btn_search = driver.find_element_by_css_selector(\"#search_bin\")\n",
    "btn_search.click()\n",
    "\n",
    "# 결과 페이지소스 확인\n",
    "result = driver.page_source\n",
    "print(result) # 크롤링 대상 페이지 소스\n",
    "# BeautifulSoup으로 분석, 스크래핑\n"
   ]
  }
 ],
 "metadata": {
  "kernelspec": {
   "display_name": "Python 3",
   "language": "python",
   "name": "python3"
  },
  "language_info": {
   "codemirror_mode": {
    "name": "ipython",
    "version": 3
   },
   "file_extension": ".py",
   "mimetype": "text/x-python",
   "name": "python",
   "nbconvert_exporter": "python",
   "pygments_lexer": "ipython3",
   "version": "3.7.6"
  }
 },
 "nbformat": 4,
 "nbformat_minor": 4
}
